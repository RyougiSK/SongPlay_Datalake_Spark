{
 "cells": [
  {
   "cell_type": "code",
   "execution_count": 8,
   "id": "309afc07",
   "metadata": {},
   "outputs": [],
   "source": [
    "import logging\n",
    "import boto3\n",
    "from botocore.exceptions import ClientError\n",
    "import configparser\n",
    "import os\n",
    "\n",
    "config = configparser.ConfigParser()\n",
    "config.read('dl.cfg')\n",
    "\n",
    "KEY = config['S3']['AWS_ACCESS_KEY_ID']\n",
    "SECRET = config['S3']['AWS_SECRET_ACCESS_KEY']\n",
    "\n",
    "region = \"us-west-2\"\n",
    "\n",
    "s3 = boto3.client('s3',\n",
    "                    region_name=region,\n",
    "                    aws_access_key_id=KEY,\n",
    "                    aws_secret_access_key=SECRET\n",
    "                    )\n",
    "\n",
    "try:\n",
    "    location = {'LocationConstraint': region}\n",
    "    bucket_name = 'datalake-target-s3'\n",
    "    s3.create_bucket(Bucket=bucket_name,\n",
    "                            CreateBucketConfiguration=location)   \n",
    "except ClientError as e:\n",
    "    logging.error(e)"
   ]
  },
  {
   "cell_type": "code",
   "execution_count": null,
   "id": "1707a6d5",
   "metadata": {},
   "outputs": [],
   "source": []
  }
 ],
 "metadata": {
  "kernelspec": {
   "display_name": "Python 3 (ipykernel)",
   "language": "python",
   "name": "python3"
  },
  "language_info": {
   "codemirror_mode": {
    "name": "ipython",
    "version": 3
   },
   "file_extension": ".py",
   "mimetype": "text/x-python",
   "name": "python",
   "nbconvert_exporter": "python",
   "pygments_lexer": "ipython3",
   "version": "3.10.5"
  }
 },
 "nbformat": 4,
 "nbformat_minor": 5
}
